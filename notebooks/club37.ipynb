{
 "cells": [
  {
   "cell_type": "code",
   "execution_count": 1,
   "metadata": {},
   "outputs": [],
   "source": [
    "import requests\n",
    "from bs4 import BeautifulSoup\n",
    "import re\n",
    "from tqdm import tqdm\n",
    "import numpy as np"
   ]
  },
  {
   "cell_type": "markdown",
   "metadata": {},
   "source": [
    "### Intro\n",
    "\n",
    "*\"The 27 Club is an informal list consisting mostly of popular musicians, artists, actors, and other celebrities who died at age 27.\"* (https://en.wikipedia.org/wiki/27_Club)\n",
    "\n",
    "27 Club features, among others, Kurt Cobain, Brian Jones, Amy Winehouse. There is even a [book](https://www.amazon.com/27-History-through-Morrison-Winehouse/dp/0306821680/ref=la_B001IOH9LK_1_1?ascsubtag=___vx__p_8041312__t_w__r_en.wikipedia.org__d_D&s=books&ie=UTF8&qid=1415056518&sr=1-1) on this. Big names, sudden deaths. It attracts attention and suggests a mysterious pattern: is it really true that most young rising stars die at 27?\n",
    "\n",
    "It's not. As [has been shown](https://theconversation.com/the-27-club-is-a-myth-56-is-the-bum-note-for-musicians-33586), most musicians die around 56, which sounds much less mysterious.\n",
    "\n",
    "Now, there is a similar phenomenon in Russian culture: 37.  \n",
    "Pushkin, Nekrasov, Nikitin, Gaidar are high profile examples, while Mayakovsky, Odoevsky, Harms died at 36.  \n",
    "\n",
    "Does club 37 exist or is it an illusion, sparked by few high-profile cases? \n",
    "\n",
    "One way to proceed to is to parse list of Russian-language poets and writers from Wikipedia."
   ]
  },
  {
   "cell_type": "markdown",
   "metadata": {},
   "source": [
    "### Attempt I\n",
    "The easiest way to proceed is to parse lists of Russian-language poets and writers: \n",
    "- https://en.wikipedia.org/wiki/List_of_Russian-language_writers\n",
    "- https://en.wikipedia.org/wiki/List_of_Russian-language_poets\n",
    "\n",
    "Each entry comes with a lifespan  \n"
   ]
  },
  {
   "cell_type": "code",
   "execution_count": 2,
   "metadata": {},
   "outputs": [],
   "source": [
    "page = requests.get('https://en.wikipedia.org/wiki/List_of_Russian-language_writers')\n",
    "bs = BeautifulSoup(page.content)\n",
    "li = bs.find_all('li')"
   ]
  },
  {
   "cell_type": "code",
   "execution_count": 3,
   "metadata": {},
   "outputs": [
    {
     "name": "stderr",
     "output_type": "stream",
     "text": [
      "100%|██████████| 1563/1563 [00:00<00:00, 42802.37it/s]\n"
     ]
    }
   ],
   "source": [
    "age_writers = {}\n",
    "lifespan_writers = {}\n",
    "for entry in tqdm(li):\n",
    "    res = re.search('(\\d\\d\\d\\d).(\\d\\d\\d\\d)', entry.text)\n",
    "    if res is not None:\n",
    "        link = f\"https://en.wikipedia.org/{entry.contents[0]['href']}\"\n",
    "        age_writers[link] = int(res.group(2))-int(res.group(1))\n",
    "        lifespan_writers[link] = (int(res.group(1)), int(res.group(2))) "
   ]
  },
  {
   "cell_type": "code",
   "execution_count": 8,
   "metadata": {},
   "outputs": [],
   "source": [
    "ages = np.array(list(age_writers.values()))"
   ]
  },
  {
   "cell_type": "code",
   "execution_count": 9,
   "metadata": {},
   "outputs": [
    {
     "data": {
      "text/plain": [
       "(1, 98)"
      ]
     },
     "execution_count": 9,
     "metadata": {},
     "output_type": "execute_result"
    }
   ],
   "source": [
    "ages.min(), ages.max()"
   ]
  },
  {
   "cell_type": "markdown",
   "metadata": {},
   "source": [
    "1 turns out to be a parsing error "
   ]
  },
  {
   "cell_type": "code",
   "execution_count": 11,
   "metadata": {},
   "outputs": [
    {
     "data": {
      "text/plain": [
       "{'https://en.wikipedia.org//wiki/Anna_Mitrofanovna_An%C3%ADchkova'}"
      ]
     },
     "execution_count": 11,
     "metadata": {},
     "output_type": "execute_result"
    }
   ],
   "source": [
    "{k for k,v in age_writers.items() if v==1}"
   ]
  },
  {
   "cell_type": "code",
   "execution_count": 12,
   "metadata": {},
   "outputs": [],
   "source": [
    "age_writers['https://en.wikipedia.org//wiki/Anna_Mitrofanovna_An%C3%ADchkova'] = 1935-1869\n",
    "lifespan_writers['https://en.wikipedia.org//wiki/Anna_Mitrofanovna_An%C3%ADchkova'] = (1869, 1935)"
   ]
  },
  {
   "cell_type": "code",
   "execution_count": 14,
   "metadata": {},
   "outputs": [
    {
     "data": {
      "text/plain": [
       "(17, 98)"
      ]
     },
     "execution_count": 14,
     "metadata": {},
     "output_type": "execute_result"
    }
   ],
   "source": [
    "ages = np.array(list(age_writers.values()))\n",
    "ages.min(), ages.max()"
   ]
  },
  {
   "cell_type": "markdown",
   "metadata": {},
   "source": [
    "This looks more reasonable. Let's check if 17 is real. "
   ]
  },
  {
   "cell_type": "code",
   "execution_count": 15,
   "metadata": {},
   "outputs": [
    {
     "data": {
      "text/plain": [
       "{'https://en.wikipedia.org//wiki/Mikhail_Sushkov'}"
      ]
     },
     "execution_count": 15,
     "metadata": {},
     "output_type": "execute_result"
    }
   ],
   "source": [
    "{k for k,v in age_writers.items() if v==17}"
   ]
  },
  {
   "cell_type": "markdown",
   "metadata": {},
   "source": [
    ">Mikhail Vasilyevich Sushkov (Russian: Михаил Васильевич Сушков) (1775–1792) was a young Russian nobleman and writer of a small body of prose and poetry, notable for his autobiographical suicide novel. He committed suicide by hanging at age 16 after writing four suicide notes [...]"
   ]
  },
  {
   "cell_type": "markdown",
   "metadata": {},
   "source": [
    "Now to the poets. Page layout is different, it's a table instead of a list, but still easy to parse."
   ]
  },
  {
   "cell_type": "code",
   "execution_count": 17,
   "metadata": {},
   "outputs": [],
   "source": [
    "page = requests.get('https://en.wikipedia.org/wiki/List_of_Russian-language_poets')\n",
    "bs = BeautifulSoup(page.content)\n",
    "td = bs.find_all('td') "
   ]
  },
  {
   "cell_type": "code",
   "execution_count": 18,
   "metadata": {},
   "outputs": [
    {
     "name": "stderr",
     "output_type": "stream",
     "text": [
      "100%|██████████| 709/709 [00:00<00:00, 272347.43it/s]\n"
     ]
    }
   ],
   "source": [
    "age_poets = {}\n",
    "lifespan_poets = {}\n",
    "td = bs.find_all('td') \n",
    "for entry in tqdm(td):\n",
    "    if entry.contents[0].name == 'b':\n",
    "        res = re.search('(\\d\\d\\d\\d).(\\d\\d\\d\\d)', entry.contents[-1].text)\n",
    "        if res is not None:\n",
    "            link = f\"https://en.wikipedia.org/{entry.contents[0].contents[0]['href']}\"\n",
    "            age_poets[link] = int(res.group(2))-int(res.group(1))\n",
    "            lifespan_poets[link] = (int(res.group(1)), int(res.group(2))) "
   ]
  },
  {
   "cell_type": "code",
   "execution_count": 19,
   "metadata": {},
   "outputs": [
    {
     "data": {
      "text/plain": [
       "(22, 96)"
      ]
     },
     "execution_count": 19,
     "metadata": {},
     "output_type": "execute_result"
    }
   ],
   "source": [
    "ages = np.array(list(age_poets.values()))\n",
    "ages.min(), ages.max()"
   ]
  },
  {
   "cell_type": "code",
   "execution_count": 20,
   "metadata": {},
   "outputs": [
    {
     "data": {
      "text/plain": [
       "(175, 210, 633)"
      ]
     },
     "execution_count": 20,
     "metadata": {},
     "output_type": "execute_result"
    }
   ],
   "source": [
    "len(set.intersection( set(age_writers.keys()), set(age_poets.keys()))), len(age_poets), len(age_writers)"
   ]
  },
  {
   "cell_type": "markdown",
   "metadata": {},
   "source": [
    "Most of the poets are writers. Let's perform a sanity check to ensure we obtained the same values from two lists."
   ]
  },
  {
   "cell_type": "code",
   "execution_count": 21,
   "metadata": {},
   "outputs": [
    {
     "data": {
      "text/plain": [
       "[('https://en.wikipedia.org//wiki/Nikolay_Yazykov', 43, 44),\n",
       " ('https://en.wikipedia.org//wiki/Yevdokiya_Rostopchina', 47, 46),\n",
       " ('https://en.wikipedia.org//wiki/Afanasy_Fet', 72, 80),\n",
       " ('https://en.wikipedia.org//wiki/Kozma_Prutkov', 60, 58),\n",
       " ('https://en.wikipedia.org//wiki/Veronika_Tushnova', 54, 50),\n",
       " ('https://en.wikipedia.org//wiki/Vasily_Trediakovsky', 65, 66)]"
      ]
     },
     "execution_count": 21,
     "metadata": {},
     "output_type": "execute_result"
    }
   ],
   "source": [
    "[ (k, age_writers[k], age_poets[k]) for k in set.intersection( set(age_writers.keys()), set(age_poets.keys())) if age_writers[k]!=age_poets[k]]"
   ]
  },
  {
   "cell_type": "markdown",
   "metadata": {},
   "source": [
    "Curious. One-year discrepancies might be due to New Style vs Old Style calendar systems. This is the case for Yazykov and Rostopchina. But Trediakovsky's lifespan is (1703-1768) according to the Russian wiki page and (1703-1769) according to English one. I'd opt for Russian version. Discrepancy for Afanasy Fet's entry is eight years. It's wrong, actual lifespan is 1820-1892. "
   ]
  },
  {
   "cell_type": "markdown",
   "metadata": {},
   "source": [
    "Here are more interesting exceptions.\n",
    "\n",
    "1. Kozma Prutkov is a collective pseudonym \n",
    "\n",
    "2. For Tushnnova the difference is four years. A typo? In fact Russian page lists two dates of birth in the infobox and explains:\n",
    "\n",
    "*В ряде биографических статей и автобиографий годом рождения Тушновой указан 1915 год. Даты 1915—1965 выгравированы на памятнике на могиле [...]\n",
    "Клуб любителей поэзии Вероники Тушновой провёл исследование и нашёл выписку из метрической книги о её крещении в 1911 году. Эту дату подтвердила и дочь поэтессы Н. Розинская* "
   ]
  },
  {
   "cell_type": "code",
   "execution_count": 22,
   "metadata": {},
   "outputs": [],
   "source": [
    "age_writers.update(age_poets)\n",
    "lifespan_writers.update(lifespan_poets)"
   ]
  },
  {
   "cell_type": "code",
   "execution_count": 23,
   "metadata": {},
   "outputs": [],
   "source": [
    "age_writers['https://en.wikipedia.org//wiki/Nikolay_Yazykov'] = 44\n",
    "lifespan_writers['https://en.wikipedia.org//wiki/Nikolay_Yazykov'] = (1803, 1847)\n",
    "\n",
    "age_writers['https://en.wikipedia.org//wiki/Vasily_Trediakovsky'] = 65\n",
    "lifespan_writers['https://en.wikipedia.org//wiki/Vasily_Trediakovsky'] = (1703, 1768)\n",
    "\n",
    "age_writers['https://en.wikipedia.org//wiki/Veronika_Tushnova'] = 54\n",
    "lifespan_writers['https://en.wikipedia.org//wiki/Veronika_Tushnova'] = (1911, 1965)\n",
    "\n",
    "age_writers['https://en.wikipedia.org//wiki/Afanasy_Fet'] = 72\n",
    "lifespan_writers['https://en.wikipedia.org//wiki/Afanasy_Fet'] = (1820, 1892)\n",
    "\n",
    "del age_writers['https://en.wikipedia.org//wiki/Kozma_Prutkov']\n",
    "del lifespan_writers['https://en.wikipedia.org//wiki/Kozma_Prutkov']"
   ]
  },
  {
   "cell_type": "code",
   "execution_count": 31,
   "metadata": {},
   "outputs": [],
   "source": [
    "ages = np.array(list(age_writers.values()))\n",
    "cnt = np.bincount(ages)"
   ]
  },
  {
   "cell_type": "code",
   "execution_count": 32,
   "metadata": {},
   "outputs": [
    {
     "data": {
      "text/plain": [
       "[(77, 26),\n",
       " (63, 20),\n",
       " (68, 20),\n",
       " (65, 19),\n",
       " (60, 16),\n",
       " (61, 16),\n",
       " (37, 15),\n",
       " (74, 15),\n",
       " (75, 15),\n",
       " (49, 14),\n",
       " (53, 14),\n",
       " (54, 14),\n",
       " (62, 14),\n",
       " (64, 14),\n",
       " (73, 14)]"
      ]
     },
     "execution_count": 32,
     "metadata": {},
     "output_type": "execute_result"
    }
   ],
   "source": [
    "sorted(list(zip(np.arange(np.max(ages)+1),cnt)),\n",
    "        key=lambda x: -x[1])[:15]"
   ]
  },
  {
   "cell_type": "markdown",
   "metadata": {},
   "source": [
    "### Discussion\n",
    "There are a few drawbacks to this approach:\n",
    "1. Some people die before reaching current year's birthday, which means their age at death is one year less than lifespan suggests\n",
    "2. Some less known artists might be missing from English wiki list. Cf [this list](https://ru.wikipedia.org/wiki/%D0%9A%D0%B0%D1%82%D0%B5%D0%B3%D0%BE%D1%80%D0%B8%D1%8F:%D0%9F%D0%BE%D1%8D%D1%82%D1%8B_%D0%A0%D0%BE%D1%81%D1%81%D0%B8%D0%B8)"
   ]
  },
  {
   "cell_type": "markdown",
   "metadata": {},
   "source": [
    "### Attempt II\n",
    "More general approach (but surely, still prone to errors) is to parse individual pages of the authors from the top-level list. Biographic pages feature convenient info-boxes with dates of birth and death, among other things.\n",
    "\n",
    "After some trial-and-error I've come to this scheme\n",
    "`(?:(\\d{1,2}\\s){0,1}(?:\\(.+?\\)\\s){0,1}(\\w+)\\s(?:\\(.+?\\)\\s|\\[.+?\\]\\s){0,1}){0,1}(\\d{4})`\n",
    "\n",
    "which captures the following cases:\n",
    "- full date is present, eg 16 июня 1846\n",
    "- full date plus Old style, eg 30 октября [11 ноября] 1821 or 30 октября (11 ноября) 1821\n",
    "- partial date, eg ноябрь 1921 or a year alone\n",
    "\n",
    "When at least both months of birth and death are present, we adjust one-year-bias, mentioned above (with days unknown, equal months imply no adjustment). When at least one month is unknown, no adjustment is undertaken.\n",
    "\n",
    "Artists, who are still alive, are filtered out "
   ]
  },
  {
   "cell_type": "code",
   "execution_count": 2,
   "metadata": {},
   "outputs": [],
   "source": [
    "month2id = dict(zip(['января', 'февраля', 'марта', 'апреля', 'мая', 'июня', 'июля', \n",
    "                     'августа', 'сентября', 'октября', 'ноября', 'декабря'],\n",
    "                    range(12)))\n",
    "\n",
    "month2id_2 = dict(zip(['январь', 'февраль', 'март', 'апрель', 'май', 'июнь', 'июль', \n",
    "                     'август', 'сентябрь', 'октябрь', 'ноябрь', 'декабрь'],\n",
    "                    range(12)))\n",
    "\n",
    "def try_infobox(bs):\n",
    "    ib = bs.select('.infobox')\n",
    "    if len(ib)==0:\n",
    "        return (-1,-1)\n",
    "\n",
    "    r = '(?:(\\d{1,2}\\s){0,1}(?:\\(.+?\\)\\s){0,1}(\\w+)\\s(?:\\(.+?\\)\\s|\\[.+?\\]\\s){0,1}){0,1}(\\d{4})'\n",
    "    m_birth = re.search(f'Дата\\sрождения\\n\\n{r}', ib[0].text)\n",
    "    m_death = re.search(  f'Дата\\sсмерти\\n\\n{r}', ib[0].text)\n",
    "    \n",
    "    if m_death is None:\n",
    "        m_death = re.search('Дата\\sсмерти\\n\\n', ib[0].text)\n",
    "        if m_death is None:\n",
    "            return (-1, -2)\n",
    "        else:\n",
    "            return (-1, -3)\n",
    "    \n",
    "    if m_birth is None:\n",
    "        m_birth = re.search('Дата\\sрождения\\n\\n', ib[0].text)\n",
    "        if m_birth is None:\n",
    "            return (-1, -4)\n",
    "        else:\n",
    "            return (-1, -5)\n",
    "    y1, y0 = int(m_death.group(3)), int(m_birth.group(3))\n",
    "    age = y1 - y0\n",
    "    if (m_death.group(2) is not None) and (m_birth.group(2) is not None):\n",
    "        dmonth = m_death.group(2).lower()\n",
    "        bmonth = m_birth.group(2).lower()\n",
    "\n",
    "        if (m_death.group(1) is not None) and (m_birth.group(1) is not None):\n",
    "            diff = month2id[dmonth] * 31 + int(m_death.group(1)) - \\\n",
    "                month2id[bmonth] * 31 - int(m_birth.group(1))\n",
    "        else:\n",
    "            md = month2id_2[dmonth] if dmonth in month2id_2 else month2id.get(dmonth,-1)\n",
    "            mb = month2id_2[bmonth] if bmonth in month2id_2 else month2id.get(bmonth,-1)\n",
    "            diff = md - mb\n",
    "            if (mb==-1) or (md==-1):\n",
    "                diff=0\n",
    "        if diff<0:\n",
    "            age-=1\n",
    "    return age, (y0, y1)"
   ]
  },
  {
   "cell_type": "code",
   "execution_count": 3,
   "metadata": {},
   "outputs": [],
   "source": [
    "err_codes = {-1: 'no infobox',\n",
    "             -2: 'still alive',\n",
    "             -3: 'death date parsing error',\n",
    "             -4: 'no birth date',\n",
    "             -5: 'birth date parsing error',\n",
    "             }"
   ]
  },
  {
   "cell_type": "code",
   "execution_count": 2,
   "metadata": {},
   "outputs": [],
   "source": [
    "base_url = 'https://ru.wikipedia.org'"
   ]
  },
  {
   "cell_type": "code",
   "execution_count": 3,
   "metadata": {},
   "outputs": [],
   "source": [
    "from collections import defaultdict\n",
    "import urllib"
   ]
  },
  {
   "cell_type": "code",
   "execution_count": 4,
   "metadata": {},
   "outputs": [],
   "source": [
    "def process_all_pages(start_page, links_all):\n",
    "    next_page = [start_page]\n",
    "    while len(next_page)>0:\n",
    "        #print(f'{base_url}/{next_page[0]}')\n",
    "        resp = requests.get(f'{base_url}/{next_page[0]}')\n",
    "        soup = BeautifulSoup(resp.content, 'lxml')\n",
    "\n",
    "        li = [x for x in soup.select('li') if (x.contents[0].name=='a') and (x.attrs=={})]\n",
    "        links = [x.contents[0]['href'] for x in li]\n",
    "        links_all.update(links)\n",
    "\n",
    "        next_page = [x['href'] for x in soup.find_all('a') if x.text=='Следующая страница']    "
   ]
  },
  {
   "cell_type": "code",
   "execution_count": 5,
   "metadata": {},
   "outputs": [],
   "source": [
    "links_all = set()\n",
    "# writers of Russia\n",
    "process_all_pages('/w/index.php?title=%D0%9A%D0%B0%D1%82%D0%B5%D0%B3%D0%BE%D1%80%D0%B8%D1%8F:%D0%9F%D0%B8%D1%81%D0%B0%D1%82%D0%B5%D0%BB%D0%B8_%D0%A0%D0%BE%D1%81%D1%81%D0%B8%D0%B8&pagefrom=%D0%92%D0%B0%D0%B2%D0%B8%D0%BB%D0%B8%D0%BD%2C+%D0%98%D0%B2%D0%B0%D0%BD+%D0%9C%D0%B8%D1%85%D0%B0%D0%B9%D0%BB%D0%BE%D0%B2%D0%B8%D1%87#mw-pages', links_all)\n",
    "# writers of Ru Empire\n",
    "process_all_pages('/wiki/%D0%9A%D0%B0%D1%82%D0%B5%D0%B3%D0%BE%D1%80%D0%B8%D1%8F:%D0%9F%D0%B8%D1%81%D0%B0%D1%82%D0%B5%D0%BB%D0%B8_%D0%A0%D0%BE%D1%81%D1%81%D0%B8%D0%B9%D1%81%D0%BA%D0%BE%D0%B9_%D0%B8%D0%BC%D0%BF%D0%B5%D1%80%D0%B8%D0%B8', links_all)\n",
    "# writers of the Soviet Union\n",
    "process_all_pages('/wiki/%D0%9A%D0%B0%D1%82%D0%B5%D0%B3%D0%BE%D1%80%D0%B8%D1%8F:%D0%9F%D0%B8%D1%81%D0%B0%D1%82%D0%B5%D0%BB%D0%B8_%D0%A1%D0%A1%D0%A1%D0%A0', links_all)\n",
    "\n",
    "# Russian poets\n",
    "process_all_pages('/wiki/%D0%9A%D0%B0%D1%82%D0%B5%D0%B3%D0%BE%D1%80%D0%B8%D1%8F:%D0%A0%D1%83%D1%81%D1%81%D0%BA%D0%B8%D0%B5_%D0%BF%D0%BE%D1%8D%D1%82%D1%8B', links_all)"
   ]
  },
  {
   "cell_type": "code",
   "execution_count": 8,
   "metadata": {},
   "outputs": [
    {
     "data": {
      "text/plain": [
       "8063"
      ]
     },
     "execution_count": 8,
     "metadata": {},
     "output_type": "execute_result"
    }
   ],
   "source": [
    "len(links_all)"
   ]
  },
  {
   "cell_type": "code",
   "execution_count": 9,
   "metadata": {},
   "outputs": [
    {
     "data": {
      "text/plain": [
       "['https://ru.wikipedia.org/w/index.php?title=Категория:Писатели_СССР&from=Алт',\n",
       " 'https://ru.wikipedia.org/w/index.php?title=Категория:Писатели_СССР&from=Бит',\n",
       " 'https://ru.wikipedia.org/w/index.php?title=Категория:Писатели_СССР&from=Вин',\n",
       " 'https://ru.wikipedia.org/w/index.php?title=Категория:Писатели_СССР&from=Гно',\n",
       " 'https://ru.wikipedia.org/w/index.php?title=Категория:Писатели_СССР&from=Дин',\n",
       " 'https://ru.wikipedia.org/w/index.php?title=Категория:Писатели_СССР&from=Ели',\n",
       " 'https://ru.wikipedia.org/w/index.php?title=Категория:Писатели_СССР&from=Жиг',\n",
       " 'https://ru.wikipedia.org/w/index.php?title=Категория:Писатели_СССР&from=Зее',\n",
       " 'https://ru.wikipedia.org/w/index.php?title=Категория:Писатели_СССР&from=Имп',\n",
       " 'https://ru.wikipedia.org/w/index.php?title=Категория:Писатели_СССР&from=Кож',\n",
       " 'https://ru.wikipedia.org/w/index.php?title=Категория:Писатели_СССР&from=Леп',\n",
       " 'https://ru.wikipedia.org/w/index.php?title=Категория:Писатели_СССР&from=Мер',\n",
       " 'https://ru.wikipedia.org/w/index.php?title=Категория:Писатели_СССР&from=Нет',\n",
       " 'https://ru.wikipedia.org/w/index.php?title=Категория:Писатели_СССР&from=Опо',\n",
       " 'https://ru.wikipedia.org/w/index.php?title=Категория:Писатели_СССР&from=Плу',\n",
       " 'https://ru.wikipedia.org/w/index.php?title=Категория:Писатели_СССР&from=Рич',\n",
       " 'https://ru.wikipedia.org/w/index.php?title=Категория:Писатели_СССР&from=Ско',\n",
       " 'https://ru.wikipedia.org/w/index.php?title=Категория:Писатели_СССР&from=Тих',\n",
       " 'https://ru.wikipedia.org/w/index.php?title=Категория:Писатели_СССР&from=Уни',\n",
       " 'https://ru.wikipedia.org/w/index.php?title=Категория:Писатели_СССР&from=Фин',\n",
       " 'https://ru.wikipedia.org/w/index.php?title=Категория:Писатели_СССР&from=Хим',\n",
       " 'https://ru.wikipedia.org/w/index.php?title=Категория:Писатели_СССР&from=Цер',\n",
       " 'https://ru.wikipedia.org/w/index.php?title=Категория:Писатели_СССР&from=Чес',\n",
       " 'https://ru.wikipedia.org/w/index.php?title=Категория:Писатели_СССР&from=Шин',\n",
       " 'https://ru.wikipedia.org/w/index.php?title=Категория:Писатели_СССР&from=Щит',\n",
       " 'https://ru.wikipedia.org/w/index.php?title=Категория:Писатели_СССР&from=Эли',\n",
       " 'https://ru.wikipedia.org/w/index.php?title=Категория:Писатели_СССР&from=Юри',\n",
       " 'https://ru.wikipedia.org/w/index.php?title=Категория:Писатели_СССР&from=Ямб',\n",
       " '/wiki/Ёмкин,_Геннадий_Максимович',\n",
       " '/wiki/Іванів,_Виктор',\n",
       " '/wiki/А._Вайтер',\n",
       " '/wiki/Абаза,_Платон_Никандрович',\n",
       " '/wiki/Абатуров,_Константин_Иванович',\n",
       " '/wiki/Абдиков,_Толен',\n",
       " '/wiki/Абдугафуров,_Абдугани',\n",
       " '/wiki/Абдукадыров,_Калмакан_Абдукадырович',\n",
       " '/wiki/Абдукаххар,_Самиг',\n",
       " '/wiki/Абдулаев,_Зияудин_Садулаевич',\n",
       " '/wiki/Абдулаев,_Леча_Шарипович',\n",
       " '/wiki/Абдулжалилов,_Фазиль_Апасович']"
      ]
     },
     "execution_count": 9,
     "metadata": {},
     "output_type": "execute_result"
    }
   ],
   "source": [
    "sorted([urllib.parse.unquote(k, \n",
    "                      encoding='utf-8') for k in links_all], key = lambda x: x.split('/')[-1].split(',')[0])[:40]"
   ]
  },
  {
   "cell_type": "markdown",
   "metadata": {},
   "source": [
    "urls, starting with `https` were captured by mistake. Remove them"
   ]
  },
  {
   "cell_type": "code",
   "execution_count": 10,
   "metadata": {},
   "outputs": [],
   "source": [
    "for url in [x for x in links_all if x.startswith('https')]:\n",
    "    links_all.remove(url)"
   ]
  },
  {
   "cell_type": "code",
   "execution_count": 112,
   "metadata": {},
   "outputs": [],
   "source": [
    "links_poets = set()\n",
    "process_all_pages('/wiki/%D0%9A%D0%B0%D1%82%D0%B5%D0%B3%D0%BE%D1%80%D0%B8%D1%8F:%D0%A0%D1%83%D1%81%D1%81%D0%BA%D0%B8%D0%B5_%D0%BF%D0%BE%D1%8D%D1%82%D1%8B', links_poets)\n",
    "links_writers = set()\n",
    "process_all_pages('/wiki/%D0%9A%D0%B0%D1%82%D0%B5%D0%B3%D0%BE%D1%80%D0%B8%D1%8F:%D0%A0%D1%83%D1%81%D1%81%D0%BA%D0%B8%D0%B5_%D0%BF%D0%B8%D1%81%D0%B0%D1%82%D0%B5%D0%BB%D0%B8', links_writers)"
   ]
  },
  {
   "cell_type": "code",
   "execution_count": 113,
   "metadata": {},
   "outputs": [
    {
     "data": {
      "text/plain": [
       "(16, 114, 2180)"
      ]
     },
     "execution_count": 113,
     "metadata": {},
     "output_type": "execute_result"
    }
   ],
   "source": [
    "len(set.intersection(links_poets, links_writers)), len(links_writers), len(links_poets)"
   ]
  },
  {
   "cell_type": "code",
   "execution_count": 158,
   "metadata": {},
   "outputs": [],
   "source": [
    "age_dict = {}\n",
    "lifespan_dict = {}\n",
    "excepts = defaultdict(list)"
   ]
  },
  {
   "cell_type": "code",
   "execution_count": 159,
   "metadata": {},
   "outputs": [],
   "source": [
    "start = 0"
   ]
  },
  {
   "cell_type": "code",
   "execution_count": 160,
   "metadata": {},
   "outputs": [
    {
     "name": "stderr",
     "output_type": "stream",
     "text": [
      "100%|██████████| 8034/8034 [1:23:55<00:00,  1.60it/s]\n"
     ]
    }
   ],
   "source": [
    "for i,link in tqdm(enumerate(list(links_all)[start:]), total=len(links_all)-start):\n",
    "    url = f'{base_url}/{link}'\n",
    "    page = requests.get(url)\n",
    "    bs = BeautifulSoup(page.content)\n",
    "    \n",
    "    res = try_infobox(bs)\n",
    "    if res[0]>0:\n",
    "        age_dict[url] = res[0]\n",
    "        lifespan_dict[url] = res[1]\n",
    "    else:\n",
    "        excepts[err_codes[res[1]]].append(url)"
   ]
  },
  {
   "cell_type": "code",
   "execution_count": 97,
   "metadata": {},
   "outputs": [
    {
     "data": {
      "text/plain": [
       "(37, (1799, 1837))"
      ]
     },
     "execution_count": 97,
     "metadata": {},
     "output_type": "execute_result"
    }
   ],
   "source": [
    "page = requests.get('https://ru.wikipedia.org/wiki/%D0%9F%D1%83%D1%88%D0%BA%D0%B8%D0%BD,_%D0%90%D0%BB%D0%B5%D0%BA%D1%81%D0%B0%D0%BD%D0%B4%D1%80_%D0%A1%D0%B5%D1%80%D0%B3%D0%B5%D0%B5%D0%B2%D0%B8%D1%87')\n",
    "bs = BeautifulSoup(page.content)\n",
    "try_infobox(bs)"
   ]
  },
  {
   "cell_type": "code",
   "execution_count": 12,
   "metadata": {},
   "outputs": [],
   "source": [
    "import json"
   ]
  },
  {
   "cell_type": "code",
   "execution_count": 189,
   "metadata": {},
   "outputs": [],
   "source": [
    "#with open('age_dict.json', 'w') as f:\n",
    "#    json.dump(age_dict, f)\n",
    "\n",
    "#with open('lifespan_dict.json', 'w') as f:\n",
    "#    json.dump(lifespan_dict, f)\n",
    "\n",
    "#with open('errors_dict.json', 'w') as f:\n",
    "#    json.dump(excepts, f)"
   ]
  },
  {
   "cell_type": "code",
   "execution_count": 13,
   "metadata": {},
   "outputs": [],
   "source": [
    "with open('age_dict.json', 'r') as f:\n",
    "    age_dict = json.load(f)\n",
    "\n",
    "with open('lifespan_dict.json', 'r') as f:\n",
    "    lifespan_dict = json.load(f)\n",
    "\n",
    "with open('errors_dict.json', 'r') as f:\n",
    "    excepts = json.load(f)"
   ]
  },
  {
   "cell_type": "code",
   "execution_count": 14,
   "metadata": {},
   "outputs": [
    {
     "data": {
      "text/plain": [
       "[('still alive', 1691),\n",
       " ('no birth date', 18),\n",
       " ('no infobox', 90),\n",
       " ('death date parsing error', 99),\n",
       " ('birth date parsing error', 26)]"
      ]
     },
     "execution_count": 14,
     "metadata": {},
     "output_type": "execute_result"
    }
   ],
   "source": [
    "[(k, len(excepts[k])) for k in excepts]"
   ]
  },
  {
   "cell_type": "markdown",
   "metadata": {},
   "source": [
    "Let's skim through the errors. Where infobox is not available we may examine the first paragraph of the text"
   ]
  },
  {
   "cell_type": "code",
   "execution_count": 122,
   "metadata": {},
   "outputs": [],
   "source": [
    "def parse_intro(url):\n",
    "    resp = requests.get(url)\n",
    "    bs = BeautifulSoup(resp.content, 'lxml')\n",
    "    ps = bs.find_all('p')\n",
    "    i = 0\n",
    "    while (i<len(ps)) and (ps[i].contents[0].name!='b'):\n",
    "        i+=1\n",
    "    return ps[i].text if i<len(ps) else -1"
   ]
  },
  {
   "cell_type": "code",
   "execution_count": 163,
   "metadata": {},
   "outputs": [
    {
     "data": {
      "text/plain": [
       "[(0,\n",
       "  'Александр Николаевич Молчанов (1847 (1847), Казанская губерния, Российская империя\\xa0— не ранее 1916)\\xa0— русский писатель и журналист, издатель, прозаик,  публицист.\\n'),\n",
       " (1,\n",
       "  'Серге́й Ада́мович Колба́сьев (3\\xa0(15)\\xa0марта\\xa01899, Одесса, Херсонская губерния, Российская империя[прим. 1]—30 октября 1937/30 октября 1942[прим. 2])\\xa0— русский и советский моряк, прозаик-маринист, поэт, радиолюбитель, энтузиаст джаза.\\n'),\n",
       " (2, 'Василий Щепочкин\\xa0— российский писатель XIX века.\\n'),\n",
       " (3,\n",
       "  'Никола́й Семёнович Соколо́в (конец 1810-х\\xa0— после 1850)\\xa0— русский водевилист 1830—1840-х годов, поэт, возможный автор песни «Шумел, горел пожар московский».\\n'),\n",
       " (4,\n",
       "  'Николай Дмитриевич Бутовский (1850—после 1917[2]) — военный писатель, генерал от инфантерии Русской императорской армии.\\n'),\n",
       " (5,\n",
       "  'Александр Михайлович Муратов (9 октября 1900\\xa0— пропал без вести в июне 1942-го)\\xa0— русский советский писатель, редактор, фронтовой корреспондент, педагог. Член Союза писателей СССР (1934), участник Первого съезда советских писателей, организатор и в 1934—1941\\xa0годах ответственный секретарь Горьковского отделения Союза писателей СССР. Во время Великой Отечественной войны\\xa0— старший политрук 172-ой стрелковой дивизии, оборонявшей Севастополь и полностью уничтоженной.\\n'),\n",
       " (6, 'Николай Щеглов — российский писатель и переводчик XVIII века.\\n'),\n",
       " (7,\n",
       "  'Анна Ивановна Вельяшева-Волынцева (по мужу — Олсуфьева) (?—?)\\xa0— русская писательница и поэтесса, переводчик.\\n'),\n",
       " (8,\n",
       "  'Фёдор Филиппович Смуров (псевдонимы: С….в; Ф.[1]; ок. 1830\\xa0— не ранее 1861)\\xa0— русский поэт-самоучка.\\n'),\n",
       " (9,\n",
       "  'Пётр Николаевич Шарапов\\xa0— русский писатель и переводчик первой четверти XIX века.\\n'),\n",
       " (10,\n",
       "  'Ана́ний Фёдорович Ста́рцев (1789 — после 1861 года[1]) — русский врач, штаб-лекарь, коллежский советник[2], писатель.\\n'),\n",
       " (11,\n",
       "  'Николай Николаевич Русов (1884, Серпухов, Московская губерния\\xa0— после августа 1942)\\xa0— русский советский прозаик, публицист, поэт, литературный критик.\\n'),\n",
       " (12,\n",
       "  'Владимир Саулович Гурьян (1913\\xa0—\\xa0?)\\xa0— советский поэт-песенник. Специализировался на патриотических текстах. Сотрудничал со многими советскими композиторами, среди которых Андрей Бабаев, Давид Прицкер, Анатолий Новиков.\\n'),\n",
       " (13,\n",
       "  'Эммануи́л Семёнович Зелико́вич (1896\\xa0— после 1965)\\xa0— русский советский писатель-фантаст и популяризатор науки.\\n'),\n",
       " (14,\n",
       "  'Ива́н Алексе́евич Ма́йков (псевдоним Ив. Ро́зов)\\xa0— поэт-самоучка, писал в начале 1790-х годов оды и подносил их разным лицам, чем и кормился.\\n'),\n",
       " (15,\n",
       "  'Георгий Алексеевич Яблочков (1869, Ветлуга, Российская Империя \\xa0— неизвестно) - русский писатель начала XX века, автор многочисленных повестей и рассказов в жанре реализма, которые пользовались огромной популярностью у читающей публики.\\n'),\n",
       " (16,\n",
       "  'Николай Николаевич Животов (22 сентября (4 октября) 1887\\xa0— после 1918)\\xa0— русский поэт-модернист. Сын журналиста и автора авантюрных романов Н.\\xa0Н.\\xa0Животова (старшего). Жил в дачном пригороде Киева Святошине, ряд его книг издан в городе Ананьеве (ныне Одесская область). Учился в Киевском университете на медицинском факультете.\\n'),\n",
       " (17,\n",
       "  'Бенеди́кт Авраа́мович Катло́вкер (11 июля 1872, Сороки, Бессарабская область — после 1944)\\xa0— крупный российский издатель и журналист, поэт-сатирик, прозаик, редактор, переводчик.\\n'),\n",
       " (18,\n",
       "  ' Александр Васильевич Мандрыкин  (6 августа 1855 —\\xa0?) — журналист, писатель.\\n'),\n",
       " (19,\n",
       "  'Дми́трий Емелья́нович Аста́пенко (белор. Змітрок (Дзмітрый Емяльянавіч) Астапенка) (1910 — 1944 (?))\\xa0— белорусский советский поэт, переводчик, писатель-фантаст.\\n'),\n",
       " (20,\n",
       "  'Ни́на Петро́вна Хабиа́с (при рождении Комарова, в первом браке Оболенская; 1892, Москва\\xa0— около 1943)\\xa0— русская поэтесса-футуристка, племянница Ольги Форш.\\n'),\n",
       " (21,\n",
       "  'Филипп Михайлович Назаров\\xa0— русский дипломат, переводчик отдельного Сибирского корпуса, писатель.\\n'),\n",
       " (22,\n",
       "  'Андре́й Васи́льевич Вы́родов (1770)\\xa0— русский писатель XVIII века, переводчик с немецкого языка.\\n'),\n",
       " (23,\n",
       "  'Матвей Евсигнеевич Пруцкий (1778/9 —\\xa0?) — русский поэт, писатель, переводчик и педагог; надворный советник.\\n'),\n",
       " (24, 'Владимир Цветков — русский писатель начала XIX века. \\n'),\n",
       " (25,\n",
       "  'Александр Андреевич Удалов (20 сентября 1914, Симбирск —\\xa0?)\\xa0— русский и узбекский советский писатель, переводчик, журналист, редактор, военный корреспондент. Народный писатель Узбекской ССР (1974).\\n'),\n",
       " (26,\n",
       "  'Софья Васильевна Кёлер (Келлер) (в замужестве\\xa0— Путилова, по другим сведениям\\xa0— Путилина; 5\\xa0[17]\\xa0апреля\\xa01829, Санкт-Петербург\\xa0— не ранее 1907)\\xa0— русская писательница. Литературный псевдоним\\xa0— Евгений Лунский.\\n'),\n",
       " (27,\n",
       "  'Алекса́ндр Влади́мирович Ивани́цкий (10 декабря 1937, Яровая, Сталинская область\\xa0— не\\xa0позднее\\xa025 июля 2020[1][2], Московская область)\\xa0— советский борец вольного стиля и самбист, чемпион и призёр чемпионатов СССР по вольной борьбе, призёр чемпионата СССР по самбо, многократный чемпион мира по вольной борьбе, олимпийский чемпион 1964 года, заслуженный мастер спорта СССР (1964).\\n'),\n",
       " (28,\n",
       "  'Александр Михайлович Мансуров (23 ноября 1800 — не ранее 1825)\\xa0— русский поэт и переводчик.\\n'),\n",
       " (29,\n",
       "  'Алексеев, Михаил Александрович (Брыздников) (1895 —\\xa0?)\\xa0— пролетарский писатель, известен романами о революции 1917 года.\\n'),\n",
       " (30,\n",
       "  'Мария Лисицина[3] (в ряде источников, например в «ЭСБЕ», описывается как Мария Лисицына[4]) — русская писательница, переводчица и поэтесса первой половины XIX века[5].\\n'),\n",
       " (31, 'Осип Чарныш — русский писатель и переводчик.\\n'),\n",
       " (32,\n",
       "  'Филофей Пирогов\\xa0— инок Болдина Троицкого Герасимова монастыря Смоленской епархии Русской православной церкви в городе Дорогобуже и духовный писатель XVI—XVII\\xa0вв.\\n'),\n",
       " (33,\n",
       "  'Александр Сергеевич Рождествин (1862\\xa0— не ранее 1917)\\xa0— русский педагог и публицист.\\n'),\n",
       " (34,\n",
       "  'Владимир Григорьевич Злуникин (род. 1919)\\xa0— советский писатель, поэт, прозаик, журналист.\\n'),\n",
       " (35,\n",
       "  'Леони́д Ива́нович Добы́чин (5\\xa0[17]\\xa0июня\\xa01894, Люцин, Витебская губерния, Россия\\xa0— после 28 марта 1936, Ленинград [?], СССР[4][5])\\xa0— русский советский писатель.\\n'),\n",
       " (36,\n",
       "  'Николай Иванович Страхов (1768\\xa0— после 1843)\\xa0— русский писатель-сатирик, переводчик и этнограф.\\n'),\n",
       " (37,\n",
       "  'Николай Александрович Орловский (1870—не ранее 1917)\\xa0— русский журналист, переводчик, писатель, издатель, предприниматель.\\n'),\n",
       " (38,\n",
       "  'Ионинанс Антанас Игнатович (лит. Antanas Ioninansas) (14 декабря 1923, Алитус, Литва —\\xa0????) — советский и литовский писатель, поэт и сценарист, Член Союза писателей СССР (1949—????).\\n'),\n",
       " (39,\n",
       "  'Семён Семёнович Клеба́нов (21 июля 1914, Гомель — после 1982) — советский писатель, журналист, редактор и киносценарист.\\n'),\n",
       " (40,\n",
       "  'Иван Исаевич Исаев (1751 — после 1803) — русский прозаик-переводчик конца XVIII века. \\n'),\n",
       " (41,\n",
       "  'Александр Степанович Струговщиков (1778, Петербург\\xa0— 18..?)\\xa0— писатель и переводчик по философии, сотрудник журналов.\\n'),\n",
       " (42,\n",
       "  'Се́ргий (в миру Симо́н Петро́вич Ю́ршев; 1745[1][2]\\xa0— не ранее 1799)\\xa0— русский религиозный деятель XVIII века.\\n'),\n",
       " (43,\n",
       "  'Николай Иванович Язвицкий (1782—?) — российский педагог, писатель, поэт и переводчик начала XIX века.\\n'),\n",
       " (44,\n",
       "  'Алексей Иванович Щедритский — русский педагог и писатель, поэт; штатный смотритель Переяславского училища; отец русского филолога, профессора И. А. Щедритского.\\n'),\n",
       " (45,\n",
       "  'Андрей Николаевич Балашов (1899—?)\\xa0— начинающий поэт, выпускник Тенишевского училища, единственный соавтор В.\\xa0В.\\xa0Набокова, опубликовавший с ним книгу. Не следует путать с Андреем Владимировичем Балашовым, гусаром, участником Первой мировой и Гражданской войны, автором нескольких сборников стихов.\\n'),\n",
       " (46,\n",
       "  'Умар Хапхалович Берсей (1807\\xa0—\\xa0?)— просветитель адыгского народа, учёный, писатель, поэт-баснописец, внёс значительный вклад в становление адыгской литературы и письменности, оказал огромное влияние на становление и развитие многих национальных культур горских народов и народностей.\\n'),\n",
       " (47, 'Пётр Алексеевич Смирнов (1856 — не ранее 1918) — духовный писатель.\\n'),\n",
       " (48,\n",
       "  'Лев Давидович Зайдель (псевдонимы\\xa0— З—ль, Л.; Липницкий; 1\\xa0[13]\\xa0апреля\\xa01855, Поставы, Виленская губерния\\xa0— после 1915)\\xa0— писатель и журналист, драматург, переводчик.\\n'),\n",
       " (49,\n",
       "  'Варва́ра Дмитриевна Макше́ева (в замужестве Бистром; 1822 год, Вологда — между 1865 и 1885 годом) — русская поэтесса.\\n'),\n",
       " (50,\n",
       "  'Васи́лий Васи́льевич Попуга́ев (1778 или 1779, Санкт-Петербург — около 1816, Тверь?)\\xa0— русский писатель, поэт, просветитель; член Вольного общества любителей словесности, наук и художеств.\\n'),\n",
       " (51,\n",
       "  'Пётр Андреевич Габбе (1799[2] — после 1841[3]) — русский писатель и поэт; участник Отечественной войны 1812 года.\\n'),\n",
       " (52,\n",
       "  'Вадим Константинович Стрельченко (6 ноября 1912\\xa0—\\xa0?)\\xa0— украинский советский русскоязычный  поэт.\\n'),\n",
       " (53,\n",
       "  'Сак Александр Николаевич (белор. Сак Аляксандр Мікалаевіч; 1890 (1890), село Сегда, Новогрудский уезд — 1937, Минск)\\xa0— белорусский советский религиозный и общественный деятель, поэт.\\n'),\n",
       " (54,\n",
       "  'Василий Танбовцев (Тамбовцев[2]) — русский писатель второй половины XVIII века.\\n'),\n",
       " (55,\n",
       "  'Фёдор Тимофеевич Поспелов (1759 — после 1824) — русский писатель, переводчик и издатель; член Российской Академии; коллежский советник.\\n'),\n",
       " (56,\n",
       "  'Патрикий Аристовский — архимандрит Русской православной церкви, духовный писатель, педагог и проповедник XVIII века. \\n'),\n",
       " (57,\n",
       "  'Никола́й Алексе́евич Клю́ев (10\\xa0(22)\\xa0октября\\xa01884, Коштугская волость, Олонецкая губерния[4]\\xa0— между 23[5] и 25 октября 1937, Томск[6])\\xa0— русский поэт, представитель новокрестьянского направления в русской поэзии XX\\xa0века. Расстрелян по постановлению тройки НКВД в 1937\\xa0году. Посмертно реабилитирован в 1960\\xa0году «за отсутствием события преступления»[7]. Точное место захоронения до сих пор неизвестно.\\n'),\n",
       " (58,\n",
       "  'Исаак Борисович Каганов (19.02 1904, Горки, Могилевской губернии\\xa0— 3.05.1978, Ашдод, Израиль)\\xa0— еврейский поэт, прозаик и мыслитель, писавший на иврите. Так как издание книг на иврите было запрещено советскими властями, Каганов вынужден был скрывать свою литературную деятельность. В 1949\\xa0г. был арестован и 6 лет провел в тюрьмах и лагерях, где сочинил и запомнил 480 стихотворений и книгу Торат ха-тамир «Учение о Сокровенном». Театральный деятель и драматург.\\n'),\n",
       " (59,\n",
       "  'Евграф (Евгений) Алексеевич (Александрович) Вердеревский  (1825 — после 1867) — русский писатель и журналист.\\n'),\n",
       " (60,\n",
       "  'Юрий Михайлович Никитин (25 августа 1935, Ленинград\\xa0— 9 августа 2021, Саратов)\\xa0— советский и российский писатель. Жил в Саратове.\\n'),\n",
       " (61,\n",
       "  'Софи́я Алекса́ндровна Свири́дова (1882\\xa0— не ранее 1928)\\xa0— российская поэтесса, прозаик, переводчик-эквиритмист, музыковед, музыкальный критик[2][3].\\n'),\n",
       " (62,\n",
       "  'Никола́й Алекса́ндрович Ра́вич (1899, Москва, Российская империя — 1976, Москва, СССР) — русский советский писатель, переводчик, драматург, киносценарист, историк и дипломат.\\n'),\n",
       " (63,\n",
       "  'Сергей Фёдорович Буданцев (1896—1940)\\xa0— русский советский прозаик, редактор, поэт и журналист.\\n'),\n",
       " (64,\n",
       "  'Григорий Павлович Тепчегорский — русский художник, гравёр на меди и поэт конца XVII и начала XVIII века. Свои произведения Тепчегорский подписывал не только полным именем, но также: «Григорий», «Григорий Гридер», «Иерей Григорий» и инициалами «Г. Т.»\\n'),\n",
       " (65,\n",
       "  'Эмиль (Эмилий Густавович) Шмидт (1841\\xa0— после 1890)\\xa0— русский писатель- публицист немецкого происхождения, историк и журналист, главный редактор.\\n'),\n",
       " (66,\n",
       "  'Ниссон Яковлевич Зелеранский (20 января 1915, Алтухово, Орловская губерния, Российская империя\\xa0—\\xa0????)\\xa0— русский советский прозаик, драматург, журналист, режиссёр и сценарист.\\n'),\n",
       " (67,\n",
       "  'Вениамин Алексеевич Краснушкин  (10 [22] августа 1891[1], Филоновская, область Войска Донского[1]\\xa0— не\\xa0ранее\\xa028 июня 1920[2], Ростов-на-Дону, Ростовский округ, Донская область, РСФСР[2])\\xa0— русский литератор, публиковался под псевдонимом Виктор Севский.\\n'),\n",
       " (68,\n",
       "  'Григорий Афанасьевич Полисадов (1836\\xa0— после 1911)\\xa0— российский писатель.\\n'),\n",
       " (69,\n",
       "  'Вениамин Самойлович Гиршгорн (1903, Екатеринбург\\xa0— не ранее 1934)\\xa0— советский прозаик, писатель-фантаст и поэт, драматург, режиссёр.\\n'),\n",
       " (70,\n",
       "  'Яков Осипович Пожарский — российский писатель, переводчик и педагог XIX века.\\n'),\n",
       " (71,\n",
       "  'Николай Николаевич Щеглов (1849 (1849)\\xa0—\\xa0?)\\xa0— российский духовный писатель и педагог.\\n'),\n",
       " (72,\n",
       "  'Григорий Емельянович Замчалов (7 марта 1901 года\\xa0—\\xa0?)\\xa0— русский советский детский писатель. Член Союза писателей[1].\\n'),\n",
       " (73,\n",
       "  'Наталья Ивановна Титова (1709 — не ранее 1774) — русская писательница, переводчица и поэтесса[3].\\n'),\n",
       " (74,\n",
       "  'Гавриил Софронович Шутов (род. 1743)\\xa0— российский стихотворец, переводчик и педагог, протоиерей XVIII века.\\n'),\n",
       " (75,\n",
       "  'Иван Матвеевич Вдовин (8 (20) сентября 1864, деревня Бухолово, Московская губерния — после 1929)\\xa0— русский поэт и публицист, самоучка.\\n'),\n",
       " (76,\n",
       "  'Людми́ла Никола́евна Ви́лькина (первоначально Изабе́лла, в замужестве\\xa0— Виле́нкина; 5\\xa0[17]\\xa0января\\xa01873, Санкт-Петербург\\xa0— не позднее 30 июля 1920, Париж)\\xa0— русская поэтесса, писательница, переводчица, публицистка и литературный критик.\\n'),\n",
       " (77,\n",
       "  'Алексе́й Андре́евич Па́влов (псевдоним\\xa0— Алексей Москвичин; 1\\xa0[13]\\xa0февраля\\xa01815, Москва\\xa0— не ранее 1849)\\xa0— русский писатель.\\n'),\n",
       " (78,\n",
       "  'А́нна Андре́евна Кальмано́вич (ум. 16 (17) ноября 1920, Таллин)[1]\\xa0— писательница и общественная деятельница.\\n'),\n",
       " (79,\n",
       "  'Владимир Николаевич Попов (1848\\xa0— 1899[источник не указан 290 дней])\\xa0— русский медик, доктор медицины, хирург, приват-доцент, учёный и педагог, редактор, писатель.\\n'),\n",
       " (80,\n",
       "  'Лев Макси́мович Максимо́вич (1754\\xa0— до 1816)\\xa0— географ, литератор и переводчик.\\n'),\n",
       " (81,\n",
       "  'Фёдор Пантелеевич Дорофеев (1 мая 1926, Орловская область, РСФСР, СССР\\xa0—\\xa0?)\\xa0— советский журналист, писатель и сценарист.\\n'),\n",
       " (82,\n",
       "  'Борис Николаевич Колодный (2 мая 1920, Ярославка, Шполянский район, Черкасская область, УССР, СССР —\\xa0????) — советский писатель, редактор и сценарист.\\n'),\n",
       " (83,\n",
       "  'Меер Зелигович Винер (также Меер Феликсович Винер[1]; 31 декабря 1893 —\\xa0?)\\xa0— еврейский советский писатель и литературовед, историк литературы. Писал главным образом на идише, также на иврите, немецком и русском языках.\\n'),\n",
       " (84,\n",
       "  'Николай Фёдорович фон Дингельштедт (нем.\\xa0Nikolai Fedorovich von Dingelstedt; 30\\xa0сентября\\xa0(12\\xa0октября)\\xa01852, Санкт-Петербург\\xa0— 1916, Петроград)\\xa0— российский поэт, прозаик, драматург, переводчик и беллетрист, отставной капитан лейб-гвардии Московского полка, участник русско-турецкой войны (1877—1878), потомственный дворянин Петербургской губернии.\\n'),\n",
       " (85,\n",
       "  'С. Вери́тэ (идиш\\xa0ס. װעריטע\\u200e, полное имя\\xa0— Самуил Маркович Верите, настоящая фамилия\\xa0— Варе́тэ; 10\\xa0января 1901 (1901-01-10), Домбровены, Сорокский уезд, Бессарабская губерния\\xa0— после 1977)\\xa0— еврейский советский писатель,  публицист, журналист, переводчик.\\n'),\n",
       " (86,\n",
       "  'Алексе́й Алексе́евич Ко́птев (1779 или 1782\\xa0— после 1834)\\xa0— костромской помещик, русский поэт и прозаик. Принадлежит к дворянскому роду Коптевых, берущих своё начало в Костромской губернии.\\n'),\n",
       " (87,\n",
       "  'Палтиель М. Каценельсон (1898 год, Полоцк, Российская империя\\xa0— дата и место смерти не известны)\\xa0— русский эмигрантский писатель, поэт и публицист.\\n'),\n",
       " (88,\n",
       "  'Плато́н Па́влович Зу́бов (около 1796\\xa0— после 1857)\\xa0— русский военный историк, писатель-беллетрист и стихотворец, авантюрист; офицер, участник Отечественной (1812), Русско-персидской (1826—1828) и Русско-турецкой (1828—1829) войн.\\n'),\n",
       " (89,\n",
       "  'Дмитрий Львович Тарасов (16 июня 1910, Москва, Российская империя — 19хх) — советский писатель, поэт и сценарист.\\n'),\n",
       " (90,\n",
       "  'Михаил Яковлевич Завьялов (1754 или 1755, села Чагино, Кашинский уезд, Тверское наместничество\\xa0—\\xa0?)\\xa0— русский писатель, поэт, переводчик времён Екатерины II.\\n'),\n",
       " (91,\n",
       "  'Дементий Иванович Цикулин (род. около 1780, с. Ловцы[1], Егорьевский уезд, Рязанская губерния\\xa0— дата и место смерти не известны)\\xa0— российский крепостной крестьянин, известный письменным описанием своих приключений в странах Ближнего Востока.\\n'),\n",
       " (92, 'Пётр Павлович Лобысевич — русский поэт и баснописец XVIII—XIX вв.\\n'),\n",
       " (93,\n",
       "  'Пи́нхус-Ио́сиф Соломо́нович Израиле́вич, известный под литературными псевдонимами Альвек (Иосиф Альвек, И. Альвек)  и Альвэк (1895\\xa0— предп. 1943)\\xa0— русский поэт.\\n'),\n",
       " (94,\n",
       "  'Евге́ний Поликарпович Клевакин (1 (13) марта 1841\\xa0— после 21 февраля 1919)\\xa0— русский писатель и алтайский краевед, общественный деятель. Надворный советник в отставке.\\n'),\n",
       " (95,\n",
       "  'Пётр Фёдорович Чижов — российский писатель и переводчик, секретарь военной комиссии.\\n'),\n",
       " (96,\n",
       "  'Елена Александровна Зеланд-Дубельт (Зеланд-Дуббельт, Дуббельдт; 4\\xa0(16)\\xa0сентября\\xa01860, Юрьев-Польский, Владимирская губерния\\xa0— после 1937)\\xa0— русская писательница.\\n'),\n",
       " (97, 'Иоанн Васильевич Попов (1865—?) — духовный писатель, священник.\\n'),\n",
       " (98, 'Осип Чернявский — русский писатель XVIII века[2]. \\n')]"
      ]
     },
     "execution_count": 163,
     "metadata": {},
     "output_type": "execute_result"
    }
   ],
   "source": [
    "[(i, parse_intro(url)) for i,url in enumerate(excepts['death date parsing error'])]"
   ]
  },
  {
   "cell_type": "code",
   "execution_count": 164,
   "metadata": {},
   "outputs": [
    {
     "data": {
      "text/plain": [
       "[(0,\n",
       "  'Семенцов Иван (Донецкий Бард)\\xa0— революционер, поэт, участник Гражданской войны в Донбассе.\\n'),\n",
       " (1, -1),\n",
       " (2, -1),\n",
       " (3,\n",
       "  'Цви́-Ги́рш (Григо́рий Изра́илевич) Прейгерзо́н (псевдоним\\xa0— А.Цфони; 1900, Шепетовка Волынской губернии\\xa0— 1969, Москва; прах захоронен в киббуце Шфаим, Израиль)\\xa0— еврейский писатель, писавший на иврите. Известен также как крупный специалист в области обогащения угля, автор учебников, монографий и изобретений, доцент Московского Горного института (сегодня – Горный институт НИТУ «МИСиС»).\\n'),\n",
       " (4,\n",
       "  'Семён Емельянович Родзянко (1782 (1782)—1808?)\\xa0— русский поэт и прозаик конца XVIII\\xa0— начала XIX веков.\\n'),\n",
       " (5,\n",
       "  'Яков Исаакович Явчуновский (1922—1988)\\xa0— театровед, доктор искусствоведения[1].\\n'),\n",
       " (6,\n",
       "  'Александр Александрович Петров-Агатов (настоящая фамилия — Петров[1]) (1921, Славгород, Омская губерния — 1986[2]) — советский русский поэт, писатель, переводчик, диссидент, политический заключенный, а также мошенник.\\n'),\n",
       " (7,\n",
       "  'Кирилл Александрович Доводчиков (1824 (1824)—1863)\\xa0— русский поэт[1].\\n'),\n",
       " (8, -1),\n",
       " (9,\n",
       "  'Константин Иванович Цимбалин (1807\\xa0—\\xa0?)\\xa0— российский поэт-баснописец.\\n'),\n",
       " (10, 'Евгений Лукич Милькеев (1815\\xa0— около 1845)\\xa0— русский поэт.\\n'),\n",
       " (11,\n",
       "  'Ербо́л Жара́сович Жумагу́лов (род. 23 августа 1981 года, Алма-Ата, Казахская ССР)\\xa0— современный казахский поэт, пишущий на русском языке, кинорежиссер.\\n'),\n",
       " (12, -1),\n",
       " (13,\n",
       "  'Лев и Александр Шаргородские\\xa0— братья, писатели и драматурги; большинство произведений создали вместе. В 1979 году вместе с семьями эмигрировали из СССР.\\n'),\n",
       " (14,\n",
       "  'Владимир Павлович Матвеев (13 июля 1897, Пермь, Российская империя\\xa0— 16 февраля 1939, СССР)\\xa0— советский писатель-прозаик, революционер.\\n'),\n",
       " (15,\n",
       "  'Пётр Оле́гович Ильи́нский (род. 1965 (1965), Ленинград)\\xa0— американский учёный биолог-онколог, русский поэт, эссеист, историософ.\\n'),\n",
       " (16,\n",
       "  'Конов Виктор Фёдорович (30\\xa0октября 1940 (1940-10-30)\\xa0— 12 июля 2018)\\xa0— русский советский писатель, сценарист, член Союза писателей России.\\n'),\n",
       " (17,\n",
       "  'Александр Юрьевич Беляков (род. 27\\xa0ноября 1962 (1962-11-27), Ярославль)\\xa0— российский поэт и переводчик.\\n'),\n",
       " (18,\n",
       "  'Ру́сские поэ́ты-футури́сты\\xa0— писавшие на русском языке поэты русского авангарда, чьё творчество полностью или на определенном этапе было связано с футуризмом. Поэты данного направления провозглашали низвержение форм и условностей искусства ради его сопряжения с прогрессом XX века[1]. Основной поэтической концепцией футуризма была передача ощущений по типу «потока сознания», акценты звуковой и графической составляющих в противовес смыслу\\xa0— активно использовалась ономатопея и аллитерации; поэты часто обращались к рисункам, коллажам, комбинациям из типографских и рисованных шрифтов, математическим знакам[2].\\n'),\n",
       " (19, -1),\n",
       " (20,\n",
       "  'Карим Байелович Баялиев (род. 1927, аул Бериккара Джувалинского района Джамбулской области (ныне Жуалынского района Жамбылской области Казахстана)\\xa0— казахский писатель, драматург и журналист. Заслуженный деятель культуры Республики Казахстан.\\n'),\n",
       " (21,\n",
       "  'Альберт Вениаминович Цессарский (1 января 1920, Одесса\\xa0— 24 октября 2010, Москва)\\xa0— советский писатель, заслуженный врач РСФСР.\\n'),\n",
       " (22,\n",
       "  'Анатолий Павлович Овчинников (10 февраля 1956, Александровка, Ухоловский район, Рязанская область\\xa0— 19 июля 2003, Авдотьинка, Шиловский район, Рязанская область)\\xa0— советский и российский публицист и писатель-прозаик, член Союза журналистов СССР и Союза писателей СССР.\\n'),\n",
       " (23,\n",
       "  'Анна Александровна Нетунаева (Куканова, Васнецова) (род. 17\\xa0августа 1961 (1961-08-17), Москва)\\xa0— российская поэтесса и прозаик, в том числе, детский. Зав. секции детской литературы Московской организации литераторов Союза литераторов Российской Федерации[1] (2009), член Союза писателей-переводчиков (СПП) (2010), член Московской городской организации Союза писателей России (СПР) (2011), член Союза литераторов Европы (2012). Награждена медалью им. А. Чехова от СПР и СПП, 2010.\\n'),\n",
       " (24,\n",
       "  'Васи́лий Васи́льевич Коса́ткин (1845-1914) — духовный писатель, протоиерей.\\n'),\n",
       " (25,\n",
       "  'Андрей Христофорович Белобоцкий (до принятия православия в 1682 году — Ян Белобоцкий, середина XVII\\xa0в., Перемышль, Русское воеводство, Речь Посполитая\\xa0— после 1712, вероятно Москва, Русское царство)\\xa0— кальвинистский проповедник, впоследствии православный духовный писатель, поэт, философ-луллист и переводчик эпохи барокко, участник русского посольства в Китай. \\n'),\n",
       " (26,\n",
       "  'Иосиф Туробойский\\xa0— русский писатель, преподаватель, архимандрит Русской православной церкви.\\n'),\n",
       " (27,\n",
       "  'Фёдор Михайлович Дубянский (5\\xa0февраля 1760 (1760-02-05), Санкт-Петербург\\xa0— 4 августа 1796, Санкт-Петербург)\\xa0— русский композитор и поэт.\\n'),\n",
       " (28,\n",
       "  'Никола́й Ио́сифович Сиротю́к  (укр. Микола Йосипович Сиротюк; род. 9 июля 1915, село Текливцы, ныне Крыжопольский район Винницкой области\\xa0— † 10 октября 1984[1])\\xa0— украинский литературовед и писатель.\\n'),\n",
       " (29,\n",
       "  'Лев Абрамович Дановский (настоящая фамилия\\xa0Айзенштат; 3\\xa0апреля 1947 (1947-04-03), Киров\\xa0— 30 декабря 2004, Санкт-Петербург)\\xa0— российский поэт.\\n'),\n",
       " (30, -1),\n",
       " (31,\n",
       "  'Елена Николаевна Тихомирова (урожд. Немчинова;\\xa0?—?)\\xa0— издательница, писательница, автор популярных книжек.\\n'),\n",
       " (32,\n",
       "  'Файвель (Файвл) Соломонович Си́то (15 декабря 1909, Ровно — 21 сентября 1945, Москва) — еврейский советский прозаик, поэт, драматург. \\n'),\n",
       " (33, -1),\n",
       " (34, -1),\n",
       " (35,\n",
       "  'Пётр Павлович Пшеничный (1900 (1900)\\xa0— 1966)\\xa0— полковой комиссар, писатель. Награждён четырьмя орденами и медалями. Автор воспоминаний «Наш полк в тылу врага», которые были напечатаны в сборнике «Народное ополчение Москвы», вышедшем в издательстве «Московский рабочий» в 1961 году к 20-летию начала Великой Отечественной войны.\\n'),\n",
       " (36,\n",
       "  'Братья Пресняковы\\xa0— сценаристы, писатели, режиссеры, авторы пьес «Изображая жертву», «Терроризм», «Половое покрытие», «Free time» и др. поставленных в театрах России, Европы и мира, в том числе МХТ им. А.\\xa0П.\\xa0Чехова; компаниями New Group, Play Company, New York; Royal Court Theatre, London; Deutsches Theater, Berlin.\\n'),\n",
       " (37, -1),\n",
       " (38,\n",
       "  'Танский (XVIII век[1])\\xa0— малорусский писатель-комедиограф XVIII века, предок Гоголя.\\n'),\n",
       " (39,\n",
       "  'Владисла́в Никола́евич Горчако́в (27 марта (8 апреля) 1822, деревня Горчаковка Валковский уезд Харьковской губернии\\xa0— не ранее 1853)\\xa0— русский поэт-дилетант.\\n'),\n",
       " (40,\n",
       "  'Алекса́ндр Ге́нрикович Месропя́н (род. 30 июля 1962, хутор Весёлый, Ростовская область, СССР)\\xa0— российский поэт.\\n'),\n",
       " (41, -1),\n",
       " (42,\n",
       "  'Пётр Праволамский\\xa0(ок. 1820\\xa0— ок. 1869)\\xa0— русский поэт - любитель.\\n'),\n",
       " (43, -1),\n",
       " (44,\n",
       "  'Иван Филиппович Вернет (фр.\\xa0Jean Vernet; 1760 (1760), Монбельяр, Швейцария (ныне Франция) — ок. 1825, Харьков, Российская империя) — харьковский писатель, педагог и журналист. Получил широкую известность в Слободском крае как автор воспоминаний о Григории Сковороде и интеллектуальной истории Харькова. Вернет принадлежит к числу важнейших биографов Сковороды наряду с Густавом Гессом де Кальве и Михаилом Коваленским.\\n'),\n",
       " (45,\n",
       "  'Николай Сергеевич Позняков (11 (23) февраля 1893\\xa0— ок. 1969, Москва)\\xa0— русский поэт и переводчик.\\n'),\n",
       " (46, -1),\n",
       " (47,\n",
       "  'Маспык-оол, Кара-оол Андреевич (29 апреля 1936 г. – 1 декабря 2019 г.) – поэт, писатель, заслуженный работник Республики Тыва[1], член Союза писателей Республики Тыва, член Союза журналистов Российской Федерации.\\n'),\n",
       " (48,\n",
       "  'Павел Евтихиевич Кофанов (1893, Пятигорск — после 1943) — советский поэт, прозаик.\\n'),\n",
       " (49,\n",
       "  'Константи́н Дми́триевич Попо́в (1849 (1849)—1911)\\xa0— писатель, богослов.\\n'),\n",
       " (50,\n",
       "  'Татьяна Львовна Калугина (урождённая\\xa0— Шевелёва) (родилась 15 ноября 1942 года в Москве)\\xa0— советская писательница, журналистка. Специалист в биографии, творческом наследии Рерихов[1].\\n'),\n",
       " (51,\n",
       "  'Братья Тур\\xa0— творческий псевдоним писавших совместно русских советских писателей Л.\\xa0Д.\\xa0Тубельского и П.\\xa0Л.\\xa0Рыжея. Работали вместе с 1925 года. Члены Союза писателей СССР с 1938 года. Для их творчества характерно сочетание публицистики и детектива. После смерти Леонида Тубельского Пётр Рыжей писал под псевдонимом Тур вместе со своей женой Ариадной Сергеевной (пьесы «Единственный свидетель», «Чрезвычайный посол», «Лунная соната» и другие).\\n'),\n",
       " (52,\n",
       "  'Юлия Алексеевна Качалкина (настоящая фамилия\\xa0— Селиванова), (род. 10\\xa0июля 1982 (1982-07-10), г.Москва)\\xa0— российский литературный критик, редактор, переводчик, поэтесса. В настоящий момент является начальником отдела современной российской прозы крупнейшего издательства «Эксмо»[1]\\n'),\n",
       " (53,\n",
       "  'Пётр Петро́вич Гатала́к (25 июня 1885, Королевство Галиции и Лодомерии — 29 сентября 1949, Мукачево, УССР) — галицко-русский общественный и политический деятель, экономист и литератор.\\n'),\n",
       " (54,\n",
       "  'Михаил Исаакович Мительман\\xa0— советский экономист, экономико-географ и писатель, сотрудник ЦУНХУ Госплана СССР.[1] Кандидат физико-математических наук. Художественную прозу публиковал под псевдонимами «М. Чесс» и «Мих. И. Чесс».[2]\\n'),\n",
       " (55,\n",
       "  'Владимир Ричиотти (настоящее имя\\xa0— Леонид Осипович Турутович; 31.3.(12.4).1899, Петербург\\xa0— 21.8.1939, Кисловодск)\\xa0— поэт, прозаик, критик. Один из деятелей Петроградского Воинствующего Ордена имажинистов.\\n'),\n",
       " (56,\n",
       "  'Александр Иванович Вьюрков (сентябрь 1885 — 2 июля 1956)\\xa0— русский советский писатель, москвовед.\\n'),\n",
       " (57,\n",
       "  'Серия «Серебряный пепел»\\xa0— уникальное библиофильское издание малоизвестных, а то и вовсе забытых поэтов Серебряного века и Русского Зарубежья конца XIX — первой трети XX века.\\n'),\n",
       " (58,\n",
       "  'Ви́ктор Андре́евич Ма́мченко (1901, Николаев — 11 декабря 1982, Шелль, под Парижем) — русский поэт «первой волны» эмиграции, участник ряда литературных объединений. В стихах скрещивается влияние эстетики «парижской ноты» и авангардистской поэтики.\\n'),\n",
       " (59,\n",
       "  'Маады, Болат Бурунааевич (25.03.1942\\xa0— 22.09.2019)\\xa0— поэт[1], автор поэтических сборников, член Союза писателей Тувы[2].\\n'),\n",
       " (60,\n",
       "  'Еслям Зикибаев (Есләм Зікiбаев\\xa0— каз.; 5\\xa0июня 1936 (1936-06-05), село Орнек, Ленинский (ныне Есильский) район, Северо-Казахстанская область\\xa0— 12 апреля 2002, Алма-Ата)\\xa0— казахский поэт и писатель, автор почти двух десятков поэтических сборников.\\n'),\n",
       " (61,\n",
       "  'Леон Павлович Гроховский (11\\xa0марта 1931 (1931-03-11)\\xa0— 21 декабря 2001)\\xa0— российский поэт.\\n'),\n",
       " (62,\n",
       "  'Сагателян Михаил Рачьянович (1927, г. Саратов – 1994), советский журналист-международник, американист, писатель. \\n'),\n",
       " (63, -1),\n",
       " (64, -1),\n",
       " (65,\n",
       "  'Ю́лия Эльхáновна Скородýмова (род. 1964 (1964), Москва)\\xa0— русская поэтесса.\\n'),\n",
       " (66,\n",
       "  'Поэтесс Серебряного века, т. е. публиковавших свои стихи с конца XIX века до 1920-х, много. О многих поэтессах совершенно отсутствуют биографические сведения: «Это и Наталия Бернар, которую с удовольствием цитировал Крученых, и Елена Шварцбах-Молчанова, издававшаяся под псевдонимом Графиня Мария, и Лидия Кологривова, от которой в архивах осталась только переписка с начальником её мужа, А.\\xa0В.\\xa0Половцевым (изображение его особняка украшало обложку „Аполлона“), и многие другие»[1].\\n'),\n",
       " (67, -1),\n",
       " (68,\n",
       "  'Вячеслав Викторович Лютов (7.08.1970, Челябинск\\xa0— 18.09.2020 Кыштым, похоронен в с. Булзи Каслинского района)\\xa0— педагог, журналист, писатель, член Союза журналистов России (2003).\\n'),\n",
       " (69, -1),\n",
       " (70,\n",
       "  'Виктор Андреевич Ильин (24 мая 1927 — 2011) — русский советский писатель-прозаик, журналист. По образованию инженер-кораблестроитель.\\n'),\n",
       " (71,\n",
       "  'Евгений Матвеевич Сузюмов (4\\xa0(17)\\xa0января 1908 (1908-01-17), Пенза\\xa0— 30 апреля 1998, Москва)\\xa0— кандидат географических наук, почетный полярник, почетный гражданин г. Нижний Ломов (установлена мемориальная доска на доме, где жил Е. Сузюмов), почетный иностранный член Географического о-ва США. Основная сфера деятельности в послевоенный период\\xa0— планирование и организационное обеспечение экспедиционных исследований Мирового океана. Участник многих экспедиций Главсевморпути и АН СССР в Арктику, Антарктику, Атлантический и Тихий океаны. Писатель\\xa0— автор 14-ти научно-популярных книг и брошюр и многочисленных статей. Награждён 7-ю орденами и 14-ю медалями.\\n'),\n",
       " (72,\n",
       "  'Гизелла Сигизмундовна Лахман (урождённая Рабинерсон; англ.\\xa0Gisella Lachman; 1890, Киев\\xa0— 1969, Вашингтон)[1]\\xa0— русская поэтесса, библиограф.\\n'),\n",
       " (73, -1),\n",
       " (74,\n",
       "  'Ильф и Петров — советские писатели-сатирики Илья Ильф (настоящее имя — Иехиел-Лейб бен Арьевич Файнзильберг; 1897—1937) и Евгений Петров (настоящее имя — Евгений Петрович Катаев; 1902—1942). Уроженцы города Одесса. Авторы совместно написали знаменитые романы «Двенадцать стульев» (1928) и «Золотой телёнок» (1931).  Дилогия о похождениях «великого комбинатора» Остапа Бендера выдержала множество переизданий, не только на русском языке.\\n'),\n",
       " (75, -1),\n",
       " (76,\n",
       "  'Владимир Сергеевич Преображенский (23 января 1924, Деденёво, Московский округ\\xa0— июль 2013)\\xa0— советский лыжник и горнолыжник, тренер по лыжному и горнолыжному спорту, спортивный доктор, российский спортивный журналист. Пятикратный чемпион Советского Союза (1944—47 г. г.). В сборной СССР по горнолыжному спорту работал врачом, тренировал женщин.\\n'),\n",
       " (77,\n",
       "  'Михаи́л Евге́ньевич Квадра́тов (Кудря́вцев) (род. 4\\xa0марта 1962 (1962-03-04), Сарапул, Удмуртская АССР)\\xa0— русский поэт, прозаик.\\n'),\n",
       " (78, -1),\n",
       " (79,\n",
       "  'Людмила Султановна Гатагова\\xa0— русский историк, публицист, ведущий научный сотрудник Института истории Российской академии наук,[1] специализирующийся на международных отношениях и истории Российской империи и Кавказа до революции 1917 года, включая кристаллизацию национальной идентичности и сопутствующие этнические конфликты внутри государства.[2]\\n'),\n",
       " (80,\n",
       "  '«Поэ́ты пу́шкинской поры́» («поэты пушкинской плеяды», «поэты пушкинского круга», «„Золотой век“ русской поэзии»)\\xa0— обобщающее именование русских поэтов-современников Александра Сергеевича Пушкина (1799—1837), вместе с ним входивших в число создателей «золотого века» русской поэзии, как называют первую треть XIX столетия[1]. Поэзия пушкинской поры хронологически определяется рамками 1810—1830-х годов.\\n'),\n",
       " (81,\n",
       "  'Па́вел Багря́к\\xa0— коллективный псевдоним, под которым издавалась фантастическая проза содружества шести авторов: писателей Валерия Аграновского, Дмитрия Биленкина, Ярослава Голованова, Владимира Губарева, Виктора Комарова и иллюстрации художника Павла Бунина.\\n'),\n",
       " (82,\n",
       "  'Михаил Израилевич Шлаин (1942, Москва\\xa0— 1992, там же)\\xa0— поэт, филолог.\\n'),\n",
       " (83,\n",
       "  'Альберт Мамиконович Налбандян (род. 20 августа 1940 года, Владикавказ)\\xa0— поэт, главный редактор единственного в мире русскоязычного армянского литературного журнала «Литературная Армения». Переводчик с армянского языка на русский, в основном поэзии. Перевёл многие произведения классиков армянской литературы и современных писателей (В. Терьян, Д. Варужан, М. Пешикташлян, М. Мецаренц и др.).\\n'),\n",
       " (84, -1),\n",
       " (85,\n",
       "  'Борис Григорьевич Закович (8 ноября 1907, Москва\\xa0— 14 января 1995, Париж)\\xa0— русский поэт «первой волны» эмиграции, близкий к кругу «парижской ноты».\\n'),\n",
       " (86,\n",
       "  'Семён Адамович Лившин (9\\xa0января 1940 (1940-01-09), Тирасполь\\xa0— 17 января 2019, Сан-Диего)\\xa0— русско-американский писатель-юморист, сценарист, игрок КВН.\\n'),\n",
       " (87, -1),\n",
       " (88,\n",
       "  'Борис Шоломович Крапчан (26 августа 1926, Слуцк — 1996, Тирасполь) — русский поэт.\\n'),\n",
       " (89,\n",
       "  'Дми́трий Никола́евич Семено́вский (6 января (18 января) 1894, д. Меховицы Ковровского уезда (ныне Савинский район Ивановской области РФ) \\xa0— 10 марта 1960, Иваново) — русский советский поэт, прозаик, мемуарист. Член Союза писателей СССР.\\n')]"
      ]
     },
     "execution_count": 164,
     "metadata": {},
     "output_type": "execute_result"
    }
   ],
   "source": [
    "[(i, parse_intro(url)) for i,url in enumerate(excepts['no infobox'])]"
   ]
  },
  {
   "cell_type": "markdown",
   "metadata": {},
   "source": [
    "Many of the dates are uncertain or absent. The format doesn't look uniform enough to spend much time on heuristics"
   ]
  },
  {
   "cell_type": "code",
   "execution_count": 15,
   "metadata": {},
   "outputs": [],
   "source": [
    "ages = np.array(list(age_dict.values()))"
   ]
  },
  {
   "cell_type": "code",
   "execution_count": 16,
   "metadata": {},
   "outputs": [
    {
     "data": {
      "text/plain": [
       "(15, 104)"
      ]
     },
     "execution_count": 16,
     "metadata": {},
     "output_type": "execute_result"
    }
   ],
   "source": [
    "ages.min(), ages.max()"
   ]
  },
  {
   "cell_type": "code",
   "execution_count": 17,
   "metadata": {},
   "outputs": [
    {
     "data": {
      "text/plain": [
       "{'https://ru.wikipedia.org//wiki/%D0%9A%D0%BE%D1%80%D0%B6,_%D0%9D%D0%B8%D0%BA%D0%B8%D1%82%D0%B0_%D0%9B%D0%B5%D0%BE%D0%BD%D1%82%D1%8C%D0%B5%D0%B2%D0%B8%D1%87',\n",
       " 'https://ru.wikipedia.org//wiki/%D0%9C%D0%BE%D1%80%D1%8F%D0%BA%D0%BE%D0%B2,_%D0%9F%D1%91%D1%82%D1%80_%D0%A4%D0%B0%D0%B4%D0%B5%D0%B5%D0%B2%D0%B8%D1%87',\n",
       " 'https://ru.wikipedia.org//wiki/%D0%A0%D1%83%D0%B4%D0%B0%D1%88%D0%B5%D0%B2%D1%81%D0%BA%D0%B8%D0%B9,_%D0%98%D1%81%D0%B0%D0%B0%D0%BA_%D0%98%D0%BB%D1%8C%D0%B8%D1%87'}"
      ]
     },
     "execution_count": 17,
     "metadata": {},
     "output_type": "execute_result"
    }
   ],
   "source": [
    "{k for k,v in age_dict.items() if v in [15, 104]}"
   ]
  },
  {
   "cell_type": "code",
   "execution_count": 18,
   "metadata": {},
   "outputs": [],
   "source": [
    "import matplotlib.pyplot as plt\n",
    "\n",
    "plt.rcParams.update({'font.size': 8})\n",
    "plt.style.use('seaborn-v0_8-darkgrid')"
   ]
  },
  {
   "cell_type": "code",
   "execution_count": 19,
   "metadata": {},
   "outputs": [
    {
     "data": {
      "image/png": "[encoded data removed]",
      "text/plain": [
       "<Figure size 700x400 with 1 Axes>"
      ]
     },
     "metadata": {},
     "output_type": "display_data"
    }
   ],
   "source": [
    "fig,ax=plt.subplots(figsize=(6,3))\n",
    "ax.hist(ages, bins=np.arange(10, 110, 5), alpha=0.5)\n",
    "ax.set_xticks(np.arange(10, 110, 5));"
   ]
  },
  {
   "cell_type": "code",
   "execution_count": 20,
   "metadata": {},
   "outputs": [
    {
     "data": {
      "text/plain": [
       "[(72, 160),\n",
       " (77, 156),\n",
       " (80, 156),\n",
       " (73, 153),\n",
       " (74, 152),\n",
       " (76, 151),\n",
       " (67, 147),\n",
       " (71, 146),\n",
       " (79, 145),\n",
       " (75, 143),\n",
       " (82, 142),\n",
       " (69, 140),\n",
       " (70, 140),\n",
       " (65, 136),\n",
       " (66, 134)]"
      ]
     },
     "execution_count": 20,
     "metadata": {},
     "output_type": "execute_result"
    }
   ],
   "source": [
    "cnt = np.bincount(ages)\n",
    "\n",
    "sorted(list(zip(np.arange(np.max(ages)+1),cnt)),\n",
    "        key=lambda x: -x[1])[:15]"
   ]
  },
  {
   "cell_type": "markdown",
   "metadata": {},
   "source": [
    "37 is nowhere to be seen on the histogram or in the frequency list. Let's see if a cluster of 36, 37, 38 stands out among all three-years clusters  \n"
   ]
  },
  {
   "cell_type": "code",
   "execution_count": 25,
   "metadata": {},
   "outputs": [
    {
     "data": {
      "text/plain": [
       "151"
      ]
     },
     "execution_count": 25,
     "metadata": {},
     "output_type": "execute_result"
    }
   ],
   "source": [
    "cnt[36:39].sum()"
   ]
  },
  {
   "cell_type": "code",
   "execution_count": 29,
   "metadata": {},
   "outputs": [
    {
     "data": {
      "text/plain": [
       "[(72, 465),\n",
       " (71, 459),\n",
       " (75, 450),\n",
       " (73, 448),\n",
       " (70, 446),\n",
       " (74, 446),\n",
       " (69, 426),\n",
       " (76, 426),\n",
       " (79, 422),\n",
       " (77, 420),\n",
       " (78, 420),\n",
       " (80, 419),\n",
       " (65, 417),\n",
       " (67, 410),\n",
       " (66, 404)]"
      ]
     },
     "execution_count": 29,
     "metadata": {},
     "output_type": "execute_result"
    }
   ],
   "source": [
    "sorted([(i, cnt[i:i+3].sum()) for i in range(cnt.shape[0]-3)], key=lambda x: -x[1])[:15]"
   ]
  },
  {
   "cell_type": "markdown",
   "metadata": {},
   "source": [
    "It doesn't. Another possibility is that 37 was most frequent during one specific period of time. Typically, life expectancy at birth grows as we get into modern times. Here are the distributions for artists, born in specific 50-year windows, from 1700-1750 to 1900-1950 "
   ]
  },
  {
   "cell_type": "code",
   "execution_count": 33,
   "metadata": {},
   "outputs": [
    {
     "data": {
      "image/png": "[encoded data removed]",
      "text/plain": [
       "<Figure size 600x300 with 1 Axes>"
      ]
     },
     "metadata": {},
     "output_type": "display_data"
    },
    {
     "data": {
      "image/png": "[encoded data removed]",
      "text/plain": [
       "<Figure size 600x300 with 1 Axes>"
      ]
     },
     "metadata": {},
     "output_type": "display_data"
    },
    {
     "data": {
      "image/png": "[encoded data removed]",
      "text/plain": [
       "<Figure size 600x300 with 1 Axes>"
      ]
     },
     "metadata": {},
     "output_type": "display_data"
    },
    {
     "data": {
      "image/png": "[encoded data removed]",
      "text/plain": [
       "<Figure size 600x300 with 1 Axes>"
      ]
     },
     "metadata": {},
     "output_type": "display_data"
    },
    {
     "data": {
      "image/png": "[encoded data removed]",
      "text/plain": [
       "<Figure size 600x300 with 1 Axes>"
      ]
     },
     "metadata": {},
     "output_type": "display_data"
    }
   ],
   "source": [
    "for cutoff in np.arange(1700, 1950, 50):\n",
    "    ages = np.array([v for k,v in age_dict.items() if (lifespan_dict[k][0]>cutoff) and (lifespan_dict[k][0]<cutoff+50)])\n",
    "    fig,ax=plt.subplots(figsize=(6,3))\n",
    "    ax.hist(ages, bins=np.arange(10, 110, 5), alpha=0.5)\n",
    "    ax.set_xticks(np.arange(10, 110, 5));\n",
    "    ax.set_title((cutoff, cutoff+50))  "
   ]
  },
  {
   "cell_type": "markdown",
   "metadata": {},
   "source": [
    "In three periods out of four there is a mode around 37, but it's never the biggest one."
   ]
  }
 ],
 "metadata": {
  "kernelspec": {
   "display_name": "env_docs_gpt",
   "language": "python",
   "name": "python3"
  },
  "language_info": {
   "codemirror_mode": {
    "name": "ipython",
    "version": 3
   },
   "file_extension": ".py",
   "mimetype": "text/x-python",
   "name": "python",
   "nbconvert_exporter": "python",
   "pygments_lexer": "ipython3",
   "version": "3.10.12"
  }
 },
 "nbformat": 4,
 "nbformat_minor": 2
}
